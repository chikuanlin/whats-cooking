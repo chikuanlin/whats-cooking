{
 "cells": [
  {
   "cell_type": "code",
   "execution_count": 1,
   "metadata": {},
   "outputs": [],
   "source": [
    "from dataset.dataset import WhatsCookingDataset\n",
    "from dataset.dataset import WhatsCookingStemmedDataset\n",
    "from dataset.dataset import WhatsCookingStemmedSeparatedDataset\n",
    "\n",
    "from base_solver import BaseSolver\n",
    "from SVM import SVC_solver\n",
    "\n",
    "from base_data_processor import BaseDataProcessor\n",
    "from processors.simple_ingredients_encoder import SimpleIngredientsEncoder\n",
    "from processors.tf_idf import TfIdf\n",
    "\n",
    "from sklearn.feature_extraction.text import TfidfVectorizer\n",
    "\n",
    "import importlib  # for reloading module"
   ]
  },
  {
   "cell_type": "code",
   "execution_count": 2,
   "metadata": {},
   "outputs": [
    {
     "name": "stdout",
     "output_type": "stream",
     "text": "Loading What's Cooking training dataset ...\n100%|██████████| 39774/39774 [00:00<00:00, 58169.56it/s]\n100%|██████████| 9944/9944 [00:00<00:00, 204579.12it/s]\nSuccessfully loaded What's Cooking training dataset!\nLoading What's Cooking testing dataset ...\nSuccessfully loaded What's Cooking testing dataset!\nLoading and stemming separated What's Cooking training dataset ...\n100%|██████████| 39774/39774 [01:37<00:00, 409.01it/s]\n  0%|          | 0/9944 [00:00<?, ?it/s]Successfully loaded stemmed and separated What's Cooking training dataset!\n# of cuisines = 20; # of ingredients = 3082\nLoading and stemming separated What's Cooking testing dataset ...\n100%|██████████| 9944/9944 [00:18<00:00, 523.89it/s]Successfully loaded stemmed and separated What's Cooking testing dataset!\n\n"
    }
   ],
   "source": [
    "# dataset loading\n",
    "dataset = WhatsCookingDataset()\n",
    "train_y = [dataset.cuisine2id[cuisine.cuisine] for cuisine in dataset.cuisines]\n",
    "\n",
    "test_cuisines = dataset.load_test_file()\n",
    "\n",
    "# load stemmed dataset\n",
    "dataset_stemmed = WhatsCookingStemmedSeparatedDataset(stem=False)\n",
    "train_x_stemmed = dataset_stemmed.cuisines\n",
    "\n",
    "train_y_stemmed = [\n",
    "    dataset_stemmed.cuisine2id[cuisine.cuisine] \n",
    "    for cuisine in dataset_stemmed.cuisines\n",
    "]\n",
    "\n",
    "test_cuisines_stemmed = dataset_stemmed.load_test_file()"
   ]
  },
  {
   "cell_type": "code",
   "execution_count": 3,
   "metadata": {},
   "outputs": [],
   "source": [
    "# pre-processing\n",
    "train_as_text = [' '.join(cuisine.ingredients).lower() for cuisine in dataset_stemmed.cuisines]\n",
    "test_as_text = [' '.join(cuisine.ingredients).lower() for cuisine in test_cuisines_stemmed]\n",
    "tfidf_enc = TfidfVectorizer(binary=True)\n",
    "train_x_tfidf = tfidf_enc.fit_transform(train_as_text).astype('float16')\n",
    "test_x_tfidf = tfidf_enc.transform(test_as_text).astype('float16')"
   ]
  },
  {
   "cell_type": "code",
   "execution_count": 6,
   "metadata": {},
   "outputs": [
    {
     "name": "stdout",
     "output_type": "stream",
     "text": "Now solving using SVC with lsvc_ovr\nTraining started...\ntraining time: 32.89413404464722 seconds\ntraining score: 0.8804243978478403\nSaving model...\nTesting started...\n"
    }
   ],
   "source": [
    "# training and testing\n",
    "importlib.reload(SVC_solver) \n",
    "\n",
    "s = SVC_solver.SVCSolver(dataset, method='lsvc_ovr')\n",
    "print('Now solving using SVC with {}'.format(s.method))\n",
    "s.train(train_x_tfidf, train_y_stemmed)\n",
    "s.test(test_x_tfidf, test_cuisines)"
   ]
  }
 ],
 "metadata": {
  "kernelspec": {
   "display_name": "Python 3",
   "language": "python",
   "name": "python3"
  },
  "language_info": {
   "codemirror_mode": {
    "name": "ipython",
    "version": 3
   },
   "file_extension": ".py",
   "mimetype": "text/x-python",
   "name": "python",
   "nbconvert_exporter": "python",
   "pygments_lexer": "ipython3",
   "version": "3.7.3"
  }
 },
 "nbformat": 4,
 "nbformat_minor": 4
}