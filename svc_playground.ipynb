{
 "cells": [
  {
   "cell_type": "code",
   "execution_count": 1,
   "metadata": {},
   "outputs": [],
   "source": [
    "from dataset.dataset import WhatsCookingDataset\n",
    "from dataset.dataset import WhatsCookingStemmedDataset\n",
    "from dataset.dataset import WhatsCookingStemmedSeparatedDataset\n",
    "\n",
    "from base_solver import BaseSolver\n",
    "from example_method_file.example_method import ExampleSolver\n",
    "\n",
    "from base_data_processor import BaseDataProcessor\n",
    "from processors.simple_ingredients_encoder import SimpleIngredientsEncoder\n",
    "from processors.tf_idf import TfIdf\n",
    "\n",
    "from SVM import SVC_solver\n",
    "from sklearn.feature_extraction.text import TfidfVectorizer\n",
    "import importlib  # for reloading module"
   ]
  },
  {
   "cell_type": "code",
   "execution_count": 2,
   "metadata": {},
   "outputs": [
    {
     "name": "stderr",
     "output_type": "stream",
     "text": [
      "  0%|          | 0/39774 [00:00<?, ?it/s]"
     ]
    },
    {
     "name": "stdout",
     "output_type": "stream",
     "text": [
      "Loading What's Cooking training dataset ...\n"
     ]
    },
    {
     "name": "stderr",
     "output_type": "stream",
     "text": [
      "100%|██████████| 39774/39774 [00:00<00:00, 298582.92it/s]\n",
      "100%|██████████| 9944/9944 [00:00<00:00, 952088.91it/s]\n",
      "  0%|          | 0/39774 [00:00<?, ?it/s]"
     ]
    },
    {
     "name": "stdout",
     "output_type": "stream",
     "text": [
      "Successfully loaded What's Cooking training dataset!\n",
      "Loading What's Cooking testing dataset ...\n",
      "Successfully loaded What's Cooking testing dataset!\n",
      "Loading and stemming separated What's Cooking training dataset ...\n"
     ]
    },
    {
     "name": "stderr",
     "output_type": "stream",
     "text": [
      "100%|██████████| 39774/39774 [00:24<00:00, 1591.80it/s]\n",
      "  2%|▏         | 154/9944 [00:00<00:06, 1530.10it/s]"
     ]
    },
    {
     "name": "stdout",
     "output_type": "stream",
     "text": [
      "Successfully loaded stemmed and separated What's Cooking training dataset!\n",
      "# of cuisines = 20; # of ingredients = 3082\n",
      "Loading and stemming separated What's Cooking testing dataset ...\n"
     ]
    },
    {
     "name": "stderr",
     "output_type": "stream",
     "text": [
      "100%|██████████| 9944/9944 [00:06<00:00, 1607.42it/s]"
     ]
    },
    {
     "name": "stdout",
     "output_type": "stream",
     "text": [
      "Successfully loaded stemmed and separated What's Cooking testing dataset!\n"
     ]
    },
    {
     "name": "stderr",
     "output_type": "stream",
     "text": [
      "\n"
     ]
    }
   ],
   "source": [
    "# dataset loading\n",
    "dataset = WhatsCookingDataset()\n",
    "train_y = [dataset.cuisine2id[cuisine.cuisine] for cuisine in dataset.cuisines]\n",
    "\n",
    "test_cuisines = dataset.load_test_file()\n",
    "\n",
    "# load stemmed dataset\n",
    "dataset_stemmed = WhatsCookingStemmedSeparatedDataset(stem=False)\n",
    "train_x_stemmed = dataset_stemmed.cuisines\n",
    "\n",
    "train_y_stemmed = [\n",
    "    dataset_stemmed.cuisine2id[cuisine.cuisine] \n",
    "    for cuisine in dataset_stemmed.cuisines\n",
    "]\n",
    "\n",
    "test_cuisines_stemmed = dataset_stemmed.load_test_file()"
   ]
  },
  {
   "cell_type": "code",
   "execution_count": 3,
   "metadata": {},
   "outputs": [],
   "source": [
    "# pre-processing\n",
    "train_as_text = [' '.join(cuisine.ingredients).lower() for cuisine in dataset_stemmed.cuisines]\n",
    "test_as_text = [' '.join(cuisine.ingredients).lower() for cuisine in test_cuisines_stemmed]\n",
    "tfidf_enc = TfidfVectorizer(binary=True)\n",
    "train_x_tfidf = tfidf_enc.fit_transform(train_as_text).astype('float16')\n",
    "test_x_tfidf = tfidf_enc.transform(test_as_text).astype('float16')"
   ]
  },
  {
   "cell_type": "code",
   "execution_count": 4,
   "metadata": {},
   "outputs": [
    {
     "name": "stdout",
     "output_type": "stream",
     "text": [
      "Now solving using SVC with svc_ovr\n",
      "Training started...\n",
      "training time: 518.0598945617676 seconds\n",
      "training score: 0.9995977271584452\n",
      "Saving model...\n",
      "Testing started...\n"
     ]
    }
   ],
   "source": [
    "# training and testing\n",
    "importlib.reload(SVC_solver) \n",
    "\n",
    "s = SVC_solver.SVCSolver(dataset, method='svc_ovr')\n",
    "print('Now solving using SVC with {}'.format(s.method))\n",
    "s.train(train_x_tfidf, train_y_stemmed)\n",
    "s.test(test_x_tfidf, test_cuisines)"
   ]
  }
 ],
 "metadata": {
  "kernelspec": {
   "display_name": "Python 3",
   "language": "python",
   "name": "python3"
  },
  "language_info": {
   "codemirror_mode": {
    "name": "ipython",
    "version": 3
   },
   "file_extension": ".py",
   "mimetype": "text/x-python",
   "name": "python",
   "nbconvert_exporter": "python",
   "pygments_lexer": "ipython3",
   "version": "3.7.5"
  }
 },
 "nbformat": 4,
 "nbformat_minor": 4
}
